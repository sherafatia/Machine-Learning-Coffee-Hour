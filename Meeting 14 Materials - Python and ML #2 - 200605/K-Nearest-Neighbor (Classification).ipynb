{
 "cells": [
  {
   "cell_type": "markdown",
   "metadata": {},
   "source": [
    "# K Nearest Neighbor\n",
    "\n",
    "*Created by Meghana Bhimasani, June 5, 2020*\n",
    "\n",
    "Sources: https://towardsdatascience.com/machine-learning-basics-with-the-k-nearest-neighbors-algorithm-6a6e71d01761, https://medium.com/@zxr.nju/introduction-to-machine-learning-k-nearest-neighbors-ab8dedc740fe, https://www.analyticsvidhya.com/blog/2018/03/introduction-k-neighbours-algorithm-clustering/?utm_campaign=News&utm_medium=Community&utm_source=DataCamp.com"
   ]
  },
  {
   "attachments": {},
   "cell_type": "markdown",
   "metadata": {},
   "source": [
    "KNN is a really simple and robust algorithm for classification (and sometimes regression). It has many benefits such as outlier insensitivity, ability to classify non-linear data, a high accuracy. But it does require a lot of memory :( "
   ]
  },
  {
   "cell_type": "markdown",
   "metadata": {},
   "source": [
    "<img src=\"img/knn-concept.png\" width=60% height=60%/>"
   ]
  },
  {
   "attachments": {},
   "cell_type": "markdown",
   "metadata": {},
   "source": [
    "Because k can vary your results, the easiest technique for choosing a k value is to loop through a range k and calculate the score. Choose the lowest value of k where the score starts to stabilize."
   ]
  },
  {
   "cell_type": "markdown",
   "metadata": {},
   "source": [
    "**We can implement a KNN model by following the below steps:**\n",
    "\n",
    "1. Load the data\n",
    "2. Initialise the value of k\n",
    "3. For getting the predicted class, iterate from 1 to total number of training data points (or less)\n",
    "    1. Print accuracy and plot to view minimum k value where r squared score starts to stabilize"
   ]
  },
  {
   "cell_type": "code",
   "execution_count": 7,
   "metadata": {},
   "outputs": [],
   "source": [
    "# Load Libraries\n",
    "\n",
    "import matplotlib.pyplot as plt\n",
    "from sklearn.neighbors import KNeighborsClassifier\n",
    "from sklearn.model_selection import train_test_split\n",
    "import pandas as pd\n",
    "import os"
   ]
  },
  {
   "cell_type": "code",
   "execution_count": 5,
   "metadata": {},
   "outputs": [
    {
     "data": {
      "text/html": [
       "<div>\n",
       "<style scoped>\n",
       "    .dataframe tbody tr th:only-of-type {\n",
       "        vertical-align: middle;\n",
       "    }\n",
       "\n",
       "    .dataframe tbody tr th {\n",
       "        vertical-align: top;\n",
       "    }\n",
       "\n",
       "    .dataframe thead th {\n",
       "        text-align: right;\n",
       "    }\n",
       "</style>\n",
       "<table border=\"1\" class=\"dataframe\">\n",
       "  <thead>\n",
       "    <tr style=\"text-align: right;\">\n",
       "      <th></th>\n",
       "      <th>Pregnancies</th>\n",
       "      <th>Glucose</th>\n",
       "      <th>BloodPressure</th>\n",
       "      <th>SkinThickness</th>\n",
       "      <th>Insulin</th>\n",
       "      <th>BMI</th>\n",
       "      <th>DiabetesPedigreeFunction</th>\n",
       "      <th>Age</th>\n",
       "      <th>Outcome</th>\n",
       "    </tr>\n",
       "  </thead>\n",
       "  <tbody>\n",
       "    <tr>\n",
       "      <th>0</th>\n",
       "      <td>6</td>\n",
       "      <td>148</td>\n",
       "      <td>72</td>\n",
       "      <td>35</td>\n",
       "      <td>0</td>\n",
       "      <td>33.6</td>\n",
       "      <td>0.627</td>\n",
       "      <td>50</td>\n",
       "      <td>1</td>\n",
       "    </tr>\n",
       "    <tr>\n",
       "      <th>1</th>\n",
       "      <td>1</td>\n",
       "      <td>85</td>\n",
       "      <td>66</td>\n",
       "      <td>29</td>\n",
       "      <td>0</td>\n",
       "      <td>26.6</td>\n",
       "      <td>0.351</td>\n",
       "      <td>31</td>\n",
       "      <td>0</td>\n",
       "    </tr>\n",
       "    <tr>\n",
       "      <th>2</th>\n",
       "      <td>8</td>\n",
       "      <td>183</td>\n",
       "      <td>64</td>\n",
       "      <td>0</td>\n",
       "      <td>0</td>\n",
       "      <td>23.3</td>\n",
       "      <td>0.672</td>\n",
       "      <td>32</td>\n",
       "      <td>1</td>\n",
       "    </tr>\n",
       "    <tr>\n",
       "      <th>3</th>\n",
       "      <td>1</td>\n",
       "      <td>89</td>\n",
       "      <td>66</td>\n",
       "      <td>23</td>\n",
       "      <td>94</td>\n",
       "      <td>28.1</td>\n",
       "      <td>0.167</td>\n",
       "      <td>21</td>\n",
       "      <td>0</td>\n",
       "    </tr>\n",
       "    <tr>\n",
       "      <th>4</th>\n",
       "      <td>0</td>\n",
       "      <td>137</td>\n",
       "      <td>40</td>\n",
       "      <td>35</td>\n",
       "      <td>168</td>\n",
       "      <td>43.1</td>\n",
       "      <td>2.288</td>\n",
       "      <td>33</td>\n",
       "      <td>1</td>\n",
       "    </tr>\n",
       "  </tbody>\n",
       "</table>\n",
       "</div>"
      ],
      "text/plain": [
       "   Pregnancies  Glucose  BloodPressure  SkinThickness  Insulin   BMI  \\\n",
       "0            6      148             72             35        0  33.6   \n",
       "1            1       85             66             29        0  26.6   \n",
       "2            8      183             64              0        0  23.3   \n",
       "3            1       89             66             23       94  28.1   \n",
       "4            0      137             40             35      168  43.1   \n",
       "\n",
       "   DiabetesPedigreeFunction  Age  Outcome  \n",
       "0                     0.627   50        1  \n",
       "1                     0.351   31        0  \n",
       "2                     0.672   32        1  \n",
       "3                     0.167   21        0  \n",
       "4                     2.288   33        1  "
      ]
     },
     "execution_count": 5,
     "metadata": {},
     "output_type": "execute_result"
    }
   ],
   "source": [
    "# View DataFrame\n",
    "\n",
    "df = pd.read_csv(os.path.join(\"Resources\", \"diabetes.csv\"))\n",
    "df.head()"
   ]
  },
  {
   "cell_type": "code",
   "execution_count": 6,
   "metadata": {},
   "outputs": [],
   "source": [
    "# Assign Target Variable\n",
    "\n",
    "target = df[\"Outcome\"]\n",
    "target_names = [\"negative\", \"positive\"]"
   ]
  },
  {
   "cell_type": "code",
   "execution_count": 9,
   "metadata": {},
   "outputs": [
    {
     "data": {
      "text/html": [
       "<div>\n",
       "<style scoped>\n",
       "    .dataframe tbody tr th:only-of-type {\n",
       "        vertical-align: middle;\n",
       "    }\n",
       "\n",
       "    .dataframe tbody tr th {\n",
       "        vertical-align: top;\n",
       "    }\n",
       "\n",
       "    .dataframe thead th {\n",
       "        text-align: right;\n",
       "    }\n",
       "</style>\n",
       "<table border=\"1\" class=\"dataframe\">\n",
       "  <thead>\n",
       "    <tr style=\"text-align: right;\">\n",
       "      <th></th>\n",
       "      <th>Pregnancies</th>\n",
       "      <th>Glucose</th>\n",
       "      <th>BloodPressure</th>\n",
       "      <th>SkinThickness</th>\n",
       "      <th>Insulin</th>\n",
       "      <th>BMI</th>\n",
       "      <th>DiabetesPedigreeFunction</th>\n",
       "      <th>Age</th>\n",
       "    </tr>\n",
       "  </thead>\n",
       "  <tbody>\n",
       "    <tr>\n",
       "      <th>0</th>\n",
       "      <td>6</td>\n",
       "      <td>148</td>\n",
       "      <td>72</td>\n",
       "      <td>35</td>\n",
       "      <td>0</td>\n",
       "      <td>33.6</td>\n",
       "      <td>0.627</td>\n",
       "      <td>50</td>\n",
       "    </tr>\n",
       "    <tr>\n",
       "      <th>1</th>\n",
       "      <td>1</td>\n",
       "      <td>85</td>\n",
       "      <td>66</td>\n",
       "      <td>29</td>\n",
       "      <td>0</td>\n",
       "      <td>26.6</td>\n",
       "      <td>0.351</td>\n",
       "      <td>31</td>\n",
       "    </tr>\n",
       "    <tr>\n",
       "      <th>2</th>\n",
       "      <td>8</td>\n",
       "      <td>183</td>\n",
       "      <td>64</td>\n",
       "      <td>0</td>\n",
       "      <td>0</td>\n",
       "      <td>23.3</td>\n",
       "      <td>0.672</td>\n",
       "      <td>32</td>\n",
       "    </tr>\n",
       "    <tr>\n",
       "      <th>3</th>\n",
       "      <td>1</td>\n",
       "      <td>89</td>\n",
       "      <td>66</td>\n",
       "      <td>23</td>\n",
       "      <td>94</td>\n",
       "      <td>28.1</td>\n",
       "      <td>0.167</td>\n",
       "      <td>21</td>\n",
       "    </tr>\n",
       "    <tr>\n",
       "      <th>4</th>\n",
       "      <td>0</td>\n",
       "      <td>137</td>\n",
       "      <td>40</td>\n",
       "      <td>35</td>\n",
       "      <td>168</td>\n",
       "      <td>43.1</td>\n",
       "      <td>2.288</td>\n",
       "      <td>33</td>\n",
       "    </tr>\n",
       "  </tbody>\n",
       "</table>\n",
       "</div>"
      ],
      "text/plain": [
       "   Pregnancies  Glucose  BloodPressure  SkinThickness  Insulin   BMI  \\\n",
       "0            6      148             72             35        0  33.6   \n",
       "1            1       85             66             29        0  26.6   \n",
       "2            8      183             64              0        0  23.3   \n",
       "3            1       89             66             23       94  28.1   \n",
       "4            0      137             40             35      168  43.1   \n",
       "\n",
       "   DiabetesPedigreeFunction  Age  \n",
       "0                     0.627   50  \n",
       "1                     0.351   31  \n",
       "2                     0.672   32  \n",
       "3                     0.167   21  \n",
       "4                     2.288   33  "
      ]
     },
     "execution_count": 9,
     "metadata": {},
     "output_type": "execute_result"
    }
   ],
   "source": [
    "# Assign Features variable\n",
    "\n",
    "data = df.drop(\"Outcome\", axis=1)\n",
    "feature_names = data.columns\n",
    "data.head()"
   ]
  },
  {
   "cell_type": "code",
   "execution_count": 10,
   "metadata": {},
   "outputs": [],
   "source": [
    "# split the data into training and testing sets\n",
    "\n",
    "X_train, X_test, y_train, y_test = train_test_split(data, target, random_state=42)"
   ]
  },
  {
   "cell_type": "code",
   "execution_count": 11,
   "metadata": {},
   "outputs": [
    {
     "data": {
      "text/plain": [
       "(576, 8)"
      ]
     },
     "execution_count": 11,
     "metadata": {},
     "output_type": "execute_result"
    }
   ],
   "source": [
    "X_train.shape"
   ]
  },
  {
   "cell_type": "code",
   "execution_count": 12,
   "metadata": {},
   "outputs": [
    {
     "name": "stdout",
     "output_type": "stream",
     "text": [
      "k: 1, Train/Test Score: 1.000/0.667\n",
      "k: 3, Train/Test Score: 0.847/0.641\n",
      "k: 5, Train/Test Score: 0.807/0.656\n",
      "k: 7, Train/Test Score: 0.799/0.682\n",
      "k: 9, Train/Test Score: 0.797/0.714\n",
      "k: 11, Train/Test Score: 0.795/0.693\n",
      "k: 13, Train/Test Score: 0.790/0.740\n",
      "k: 15, Train/Test Score: 0.786/0.740\n",
      "k: 17, Train/Test Score: 0.786/0.714\n",
      "k: 19, Train/Test Score: 0.781/0.714\n",
      "k: 21, Train/Test Score: 0.781/0.703\n",
      "k: 23, Train/Test Score: 0.783/0.693\n",
      "k: 25, Train/Test Score: 0.773/0.703\n",
      "k: 27, Train/Test Score: 0.773/0.708\n",
      "k: 29, Train/Test Score: 0.776/0.714\n",
      "k: 31, Train/Test Score: 0.766/0.719\n",
      "k: 33, Train/Test Score: 0.764/0.724\n",
      "k: 35, Train/Test Score: 0.759/0.729\n",
      "k: 37, Train/Test Score: 0.755/0.729\n",
      "k: 39, Train/Test Score: 0.755/0.724\n",
      "k: 41, Train/Test Score: 0.759/0.708\n",
      "k: 43, Train/Test Score: 0.769/0.724\n",
      "k: 45, Train/Test Score: 0.747/0.724\n",
      "k: 47, Train/Test Score: 0.745/0.708\n",
      "k: 49, Train/Test Score: 0.748/0.724\n",
      "k: 51, Train/Test Score: 0.748/0.729\n",
      "k: 53, Train/Test Score: 0.750/0.729\n",
      "k: 55, Train/Test Score: 0.752/0.724\n",
      "k: 57, Train/Test Score: 0.748/0.724\n",
      "k: 59, Train/Test Score: 0.750/0.714\n",
      "k: 61, Train/Test Score: 0.753/0.714\n",
      "k: 63, Train/Test Score: 0.748/0.729\n",
      "k: 65, Train/Test Score: 0.747/0.729\n",
      "k: 67, Train/Test Score: 0.750/0.719\n",
      "k: 69, Train/Test Score: 0.741/0.740\n",
      "k: 71, Train/Test Score: 0.736/0.714\n",
      "k: 73, Train/Test Score: 0.740/0.719\n",
      "k: 75, Train/Test Score: 0.750/0.724\n",
      "k: 77, Train/Test Score: 0.747/0.719\n",
      "k: 79, Train/Test Score: 0.743/0.734\n",
      "k: 81, Train/Test Score: 0.743/0.734\n",
      "k: 83, Train/Test Score: 0.750/0.729\n",
      "k: 85, Train/Test Score: 0.748/0.729\n",
      "k: 87, Train/Test Score: 0.748/0.734\n",
      "k: 89, Train/Test Score: 0.753/0.734\n",
      "k: 91, Train/Test Score: 0.759/0.724\n",
      "k: 93, Train/Test Score: 0.753/0.724\n",
      "k: 95, Train/Test Score: 0.750/0.724\n",
      "k: 97, Train/Test Score: 0.750/0.740\n",
      "k: 99, Train/Test Score: 0.757/0.729\n",
      "k: 101, Train/Test Score: 0.747/0.729\n",
      "k: 103, Train/Test Score: 0.743/0.719\n",
      "k: 105, Train/Test Score: 0.741/0.719\n",
      "k: 107, Train/Test Score: 0.743/0.714\n",
      "k: 109, Train/Test Score: 0.736/0.719\n",
      "k: 111, Train/Test Score: 0.733/0.714\n",
      "k: 113, Train/Test Score: 0.734/0.714\n",
      "k: 115, Train/Test Score: 0.736/0.703\n",
      "k: 117, Train/Test Score: 0.738/0.703\n",
      "k: 119, Train/Test Score: 0.731/0.703\n",
      "k: 121, Train/Test Score: 0.734/0.708\n",
      "k: 123, Train/Test Score: 0.734/0.703\n",
      "k: 125, Train/Test Score: 0.733/0.693\n",
      "k: 127, Train/Test Score: 0.733/0.682\n",
      "k: 129, Train/Test Score: 0.736/0.688\n",
      "k: 131, Train/Test Score: 0.736/0.677\n",
      "k: 133, Train/Test Score: 0.738/0.672\n",
      "k: 135, Train/Test Score: 0.720/0.682\n",
      "k: 137, Train/Test Score: 0.715/0.677\n",
      "k: 139, Train/Test Score: 0.714/0.688\n",
      "k: 141, Train/Test Score: 0.707/0.677\n",
      "k: 143, Train/Test Score: 0.696/0.677\n",
      "k: 145, Train/Test Score: 0.691/0.667\n",
      "k: 147, Train/Test Score: 0.682/0.651\n",
      "k: 149, Train/Test Score: 0.677/0.656\n",
      "k: 151, Train/Test Score: 0.682/0.656\n",
      "k: 153, Train/Test Score: 0.665/0.651\n",
      "k: 155, Train/Test Score: 0.670/0.630\n",
      "k: 157, Train/Test Score: 0.663/0.635\n",
      "k: 159, Train/Test Score: 0.670/0.635\n",
      "k: 161, Train/Test Score: 0.658/0.635\n",
      "k: 163, Train/Test Score: 0.655/0.641\n",
      "k: 165, Train/Test Score: 0.655/0.641\n",
      "k: 167, Train/Test Score: 0.655/0.641\n",
      "k: 169, Train/Test Score: 0.655/0.641\n",
      "k: 171, Train/Test Score: 0.655/0.641\n",
      "k: 173, Train/Test Score: 0.655/0.641\n",
      "k: 175, Train/Test Score: 0.655/0.641\n",
      "k: 177, Train/Test Score: 0.655/0.641\n",
      "k: 179, Train/Test Score: 0.655/0.641\n",
      "k: 181, Train/Test Score: 0.655/0.641\n",
      "k: 183, Train/Test Score: 0.655/0.641\n",
      "k: 185, Train/Test Score: 0.655/0.641\n",
      "k: 187, Train/Test Score: 0.655/0.641\n",
      "k: 189, Train/Test Score: 0.655/0.641\n",
      "k: 191, Train/Test Score: 0.655/0.641\n",
      "k: 193, Train/Test Score: 0.655/0.641\n",
      "k: 195, Train/Test Score: 0.655/0.641\n",
      "k: 197, Train/Test Score: 0.655/0.641\n",
      "k: 199, Train/Test Score: 0.655/0.641\n",
      "k: 201, Train/Test Score: 0.655/0.641\n",
      "k: 203, Train/Test Score: 0.655/0.641\n",
      "k: 205, Train/Test Score: 0.655/0.641\n",
      "k: 207, Train/Test Score: 0.655/0.641\n",
      "k: 209, Train/Test Score: 0.655/0.641\n",
      "k: 211, Train/Test Score: 0.655/0.641\n",
      "k: 213, Train/Test Score: 0.655/0.641\n",
      "k: 215, Train/Test Score: 0.655/0.641\n",
      "k: 217, Train/Test Score: 0.655/0.641\n",
      "k: 219, Train/Test Score: 0.655/0.641\n",
      "k: 221, Train/Test Score: 0.655/0.641\n",
      "k: 223, Train/Test Score: 0.655/0.641\n",
      "k: 225, Train/Test Score: 0.655/0.641\n",
      "k: 227, Train/Test Score: 0.655/0.641\n",
      "k: 229, Train/Test Score: 0.655/0.641\n",
      "k: 231, Train/Test Score: 0.655/0.641\n",
      "k: 233, Train/Test Score: 0.655/0.641\n",
      "k: 235, Train/Test Score: 0.655/0.641\n",
      "k: 237, Train/Test Score: 0.655/0.641\n",
      "k: 239, Train/Test Score: 0.655/0.641\n",
      "k: 241, Train/Test Score: 0.655/0.641\n",
      "k: 243, Train/Test Score: 0.655/0.641\n",
      "k: 245, Train/Test Score: 0.655/0.641\n",
      "k: 247, Train/Test Score: 0.655/0.641\n",
      "k: 249, Train/Test Score: 0.655/0.641\n"
     ]
    }
   ],
   "source": [
    "# Loop through different k values to see which has the highest accuracy\n",
    "# Note: We only use odd numbers because we don't want any ties\n",
    "\n",
    "train_scores = []\n",
    "test_scores = []\n",
    "\n",
    "for k in range(1, 250, 2):\n",
    "    knn = KNeighborsClassifier(n_neighbors=k)\n",
    "    knn.fit(X_train, y_train)\n",
    "    train_score = knn.score(X_train, y_train)\n",
    "    test_score = knn.score(X_test, y_test)\n",
    "    train_scores.append(train_score)\n",
    "    test_scores.append(test_score)\n",
    "    print(f\"k: {k}, Train/Test Score: {train_score:.3f}/{test_score:.3f}\")"
   ]
  },
  {
   "cell_type": "code",
   "execution_count": 14,
   "metadata": {},
   "outputs": [
    {
     "data": {
      "image/png": "[encoded data removed]",
      "text/plain": [
       "<Figure size 432x288 with 1 Axes>"
      ]
     },
     "metadata": {},
     "output_type": "display_data"
    }
   ],
   "source": [
    "plt.plot(range(1, 250, 2), train_scores, marker='o')\n",
    "plt.plot(range(1, 250, 2), test_scores, marker=\"x\")\n",
    "plt.xlabel(\"k neighbors\")\n",
    "plt.ylabel(\"Testing accuracy Score\")\n",
    "plt.show()"
   ]
  },
  {
   "cell_type": "code",
   "execution_count": 16,
   "metadata": {},
   "outputs": [
    {
     "data": {
      "image/png": "[encoded data removed]",
      "text/plain": [
       "<Figure size 432x288 with 1 Axes>"
      ]
     },
     "metadata": {},
     "output_type": "display_data"
    }
   ],
   "source": [
    "# zoom in on 1-20\n",
    "\n",
    "plt.plot(range(1, 20, 2), train_scores[:10], marker='o')\n",
    "plt.plot(range(1, 20, 2), test_scores[:10], marker=\"x\")\n",
    "plt.xlabel(\"k neighbors\")\n",
    "plt.ylabel(\"Testing accuracy Score\")\n",
    "plt.show()"
   ]
  },
  {
   "cell_type": "code",
   "execution_count": 17,
   "metadata": {},
   "outputs": [
    {
     "name": "stdout",
     "output_type": "stream",
     "text": [
      "k=13 Test Acc: 0.740\n"
     ]
    }
   ],
   "source": [
    "# Note that k: 13 seems to be the best choice for this dataset\n",
    "knn = KNeighborsClassifier(n_neighbors=13)\n",
    "knn.fit(X_train, y_train)\n",
    "print('k=13 Test Acc: %.3f' % knn.score(X_test, y_test))"
   ]
  },
  {
   "cell_type": "code",
   "execution_count": 18,
   "metadata": {},
   "outputs": [
    {
     "name": "stdout",
     "output_type": "stream",
     "text": [
      "Confusion Matrix:\n",
      "[[101  22]\n",
      " [ 28  41]]\n",
      "Classification Report:\n",
      "              precision    recall  f1-score   support\n",
      "\n",
      "           0       0.78      0.82      0.80       123\n",
      "           1       0.65      0.59      0.62        69\n",
      "\n",
      "    accuracy                           0.74       192\n",
      "   macro avg       0.72      0.71      0.71       192\n",
      "weighted avg       0.74      0.74      0.74       192\n",
      "\n",
      "Accuracy: 0.7395833333333334\n"
     ]
    }
   ],
   "source": [
    "from sklearn.metrics import classification_report, confusion_matrix, accuracy_score\n",
    "y_pred = knn.predict(X_test)\n",
    "result = confusion_matrix(y_test, y_pred)\n",
    "print(\"Confusion Matrix:\")\n",
    "print(result)\n",
    "result1 = classification_report(y_test, y_pred)\n",
    "print(\"Classification Report:\",)\n",
    "print (result1)\n",
    "result2 = accuracy_score(y_test,y_pred)\n",
    "print(\"Accuracy:\",result2)"
   ]
  },
  {
   "cell_type": "code",
   "execution_count": null,
   "metadata": {},
   "outputs": [],
   "source": []
  }
 ],
 "metadata": {
  "kernelspec": {
   "display_name": "Python 3",
   "language": "python",
   "name": "python3"
  },
  "language_info": {
   "codemirror_mode": {
    "name": "ipython",
    "version": 3
   },
   "file_extension": ".py",
   "mimetype": "text/x-python",
   "name": "python",
   "nbconvert_exporter": "python",
   "pygments_lexer": "ipython3",
   "version": "3.6.8"
  }
 },
 "nbformat": 4,
 "nbformat_minor": 2
}
