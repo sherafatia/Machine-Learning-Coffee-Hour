{
 "cells": [
  {
   "cell_type": "markdown",
   "metadata": {},
   "source": [
    "# Intro to ML with SciKit Learn\n",
    "*Meghana Bhimasani |  May 1 2020*"
   ]
  },
  {
   "attachments": {},
   "cell_type": "markdown",
   "metadata": {},
   "source": [
    "Machine learning is broken down into 3 main categories:\n",
    "\n",
    "## Supervised Learning:\n",
    "\n",
    "Supervised machine learning models utilize algorithms for which the potential outcomes are knowable in advance (i.e. category or numeric range) and can be used to correct the model’s predictions. With supervised ML, the input features and output labels are defined.\n",
    "\n",
    "Example 1: Using data such as credit score, credit history, income, etc., we are trying to predict whether an individual is a credit-risk or not. (Known Category: “Credit-Risk” vs. “Not Credit-Risk”)\n",
    "\n",
    "Example 2: Using features such as Number of Bedrooms, Square Feet, etc., we are trying to predict the market value of a house. (Numeric Range: 50k – 500K).\n",
    "\n",
    "## Unsupervised Learning: \n",
    "\n",
    "Unsupervised machine learning models utilize algorithms for which the potential outcomes are unlabeled. Inferences are made directly from the data without feedback from known outcomes or labels. Since the dataset in in unsupervised ML is unlabeled, the goal is to discover hidden relationships. \n",
    "\n",
    "Example: An advertising platform segments the U.S. population into smaller groups with similar demographics and purchasing habits so that advertisers can reach their target market with relevant ads.\n",
    "\n",
    "## Reinforcement Learning:\n",
    "Reinforcement learning is a technique to allow an agent to take actions and interact with its environment so as to maximize total rewards. It essentially models decision making processes. An example of this would be a computer AI for a chess game. "
   ]
  },
  {
   "attachments": {},
   "cell_type": "markdown",
   "metadata": {},
   "source": [
    "Here is a breakdown of the main machine learning categories and some real world applications of each\n",
    "\n",
    "<img src=\"img/MLcategories.png\" width=75% height=75% />"
   ]
  },
  {
   "cell_type": "markdown",
   "metadata": {},
   "source": [
    "Here are some applications of supervised and unsupervised machine learning used specifically with resting state fMRI data. (image taken from Arefeh Sherafati's Theory presentation on \"Machine learning in resting-state fMRI analysis\" [https://www.sciencedirect.com/science/article/abs/pii/S0730725X18306854])\n",
    "\n",
    "<img src=\"img/ML_applications_in_rsfMRI.png\" width=75% height=75% />"
   ]
  },
  {
   "cell_type": "markdown",
   "metadata": {},
   "source": [
    "#### Okay that's really cool that we now know where machine learning is utilized in the real world, but what are the models that make up/are used within each category?\n",
    "\n",
    "<img src=\"img/machinelearningtypes.jpg\" width=60% height=60% />"
   ]
  },
  {
   "cell_type": "markdown",
   "metadata": {},
   "source": [
    "**But regardless of the problem type, in Machine Learning we follow a familiar paradigm:**\n",
    "### Model --> Fit(Train) --> Predict\n",
    "<img src=\"img/MLparadigm.png\" width=60% height=60% />"
   ]
  },
  {
   "cell_type": "markdown",
   "metadata": {},
   "source": [
    "**There are so many models though, how do we choose the right model for our problem type?**\n",
    "\n",
    "Below is a flowchart from scikit-learn's site that gives a rough guide on how to find potential algorithms/models/estimators to try based on the dataset and the problem type to be solved.\n",
    "\n",
    "<img src=\"img/scikitlearncheatsheet.png\" width=100% height=100% />"
   ]
  },
  {
   "cell_type": "markdown",
   "metadata": {},
   "source": [
    "#### References\n",
    "\n",
    "https://medium.com/technology-nineleaps/popular-machine-learning-algorithms-a574e3835ebb\n",
    "\n",
    "https://towardsdatascience.com/applications-of-reinforcement-learning-in-real-world-1a94955bcd12\n",
    "\n",
    "https://medium.com/machine-learning-for-humans/unsupervised-learning-f45587588294\n",
    "\n",
    "\n",
    "https://scikit-learn.org/stable/tutorial/machine_learning_map/index.html\n",
    "\n",
    "\n",
    "**Below are some links explaining the differences between various ML libaries (namely scikit learn, tensorflow, keras, and pytorch)**\n",
    "\n",
    "https://stackoverflow.com/questions/54527439/differences-in-scikit-learn-keras-or-pytorch\n",
    "\n",
    "https://www.edureka.co/blog/keras-vs-tensorflow-vs-pytorch/\n",
    "\n",
    "https://towardsdatascience.com/from-scikit-learn-to-tensorflow-part-1-9ee0b96d4c85\n"
   ]
  },
  {
   "cell_type": "code",
   "execution_count": null,
   "metadata": {},
   "outputs": [],
   "source": []
  }
 ],
 "metadata": {
  "kernelspec": {
   "display_name": "Python 3",
   "language": "python",
   "name": "python3"
  },
  "language_info": {
   "codemirror_mode": {
    "name": "ipython",
    "version": 3
   },
   "file_extension": ".py",
   "mimetype": "text/x-python",
   "name": "python",
   "nbconvert_exporter": "python",
   "pygments_lexer": "ipython3",
   "version": "3.6.8"
  }
 },
 "nbformat": 4,
 "nbformat_minor": 2
}
